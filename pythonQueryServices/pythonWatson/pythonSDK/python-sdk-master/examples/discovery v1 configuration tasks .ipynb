{
 "cells": [
  {
   "cell_type": "code",
   "execution_count": null,
   "metadata": {
    "collapsed": false
   },
   "outputs": [],
   "source": [
    "import os,sys\n",
    "sys.path.append(os.path.join(os.getcwd(),'..'))\n",
    "import watson_developer_cloud\n",
    "\n",
    "DISCOVERY_USERNAME='CHANGE_ME'\n",
    "DISCOVERY_PASSWORD='CHANGE_ME'\n",
    "ENVIRONMENT_NAME='CHANGE_ME' # this is the 'name' field of your environment\n",
    "CONFIGURATION_NAME='CHANGE_ME' # this is the 'name' field of your cofiguration"
   ]
  },
  {
   "cell_type": "code",
   "execution_count": null,
   "metadata": {
    "collapsed": true
   },
   "outputs": [],
   "source": [
    "discovery = watson_developer_cloud.DiscoveryV1(\n",
    "    '2016-12-15',\n",
    "    username=DISCOVERY_USERNAME,\n",
    "    password=DISCOVERY_PASSWORD)"
   ]
  },
  {
   "cell_type": "code",
   "execution_count": null,
   "metadata": {
    "collapsed": false
   },
   "outputs": [],
   "source": [
    "environments = discovery.get_environments()\n",
    "print(environments)"
   ]
  },
  {
   "cell_type": "code",
   "execution_count": null,
   "metadata": {
    "collapsed": false
   },
   "outputs": [],
   "source": [
    "target_environment = [x for x in environments['environments'] if x['name'] == ENVIRONMENT_NAME]\n",
    "target_environment_id = target_environment[0]['environment_id']\n",
    "print(target_environment_id)"
   ]
  },
  {
   "cell_type": "code",
   "execution_count": null,
   "metadata": {
    "collapsed": false
   },
   "outputs": [],
   "source": [
    "configs = discovery.list_configurations(environment_id=target_environment_id)\n",
    "print(configs)"
   ]
  },
  {
   "cell_type": "code",
   "execution_count": null,
   "metadata": {
    "collapsed": false
   },
   "outputs": [],
   "source": [
    "target_config = [x for x in configs['configurations'] if x['name'] == CONFIGURATION_NAME]\n",
    "target_config_id = target_config[0]['configuration_id']\n",
    "print(target_config_id)"
   ]
  },
  {
   "cell_type": "code",
   "execution_count": null,
   "metadata": {
    "collapsed": false
   },
   "outputs": [],
   "source": [
    "config_data = discovery.get_configuration(environment_id=target_environment_id,\n",
    "                                          configuration_id=target_config_id)\n",
    "print(config_data)"
   ]
  },
  {
   "cell_type": "code",
   "execution_count": null,
   "metadata": {
    "collapsed": false
   },
   "outputs": [],
   "source": [
    "config_data['name'] = 'Changed Name for Example'\n",
    "res = discovery.create_configuration(environment_id=target_environment_id, config_data=config_data)\n",
    "print(res)"
   ]
  },
  {
   "cell_type": "code",
   "execution_count": null,
   "metadata": {
    "collapsed": true
   },
   "outputs": [],
   "source": [
    "res = discovery.delete_configuration(environment_id=target_environment_id, configuration_id=res['configuration_id'])\n",
    "print(res)"
   ]
  }
 ],
 "metadata": {
  "anaconda-cloud": {},
  "kernelspec": {
   "display_name": "Python [Root]",
   "language": "python",
   "name": "Python [Root]"
  },
  "language_info": {
   "codemirror_mode": {
    "name": "ipython",
    "version": 3.0
   },
   "file_extension": ".py",
   "mimetype": "text/x-python",
   "name": "python",
   "nbconvert_exporter": "python",
   "pygments_lexer": "ipython3",
   "version": "3.5.2"
  }
 },
 "nbformat": 4,
 "nbformat_minor": 0
}