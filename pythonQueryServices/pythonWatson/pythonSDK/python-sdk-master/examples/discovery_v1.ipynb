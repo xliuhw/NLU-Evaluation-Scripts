{
 "cells": [
  {
   "cell_type": "code",
   "execution_count": 1,
   "metadata": {
    "collapsed": false
   },
   "outputs": [],
   "source": [
    "import sys,pprint\n",
    "import os\n",
    "import json\n",
    "sys.path.append(os.path.join(os.getcwd(),'..'))\n",
    "import watson_developer_cloud"
   ]
  },
  {
   "cell_type": "code",
   "execution_count": 2,
   "metadata": {
    "collapsed": true
   },
   "outputs": [],
   "source": [
    "DISCOVERY_USERNAME='CHANGE_ME'\n",
    "DISCOVERY_PASSWORD='CHANGE_ME'\n",
    "pp = pprint.PrettyPrinter(indent=4)"
   ]
  },
  {
   "cell_type": "code",
   "execution_count": 10,
   "metadata": {
    "collapsed": false
   },
   "outputs": [
    {
     "name": "stdout",
     "output_type": "stream",
     "text": [
      "{   'environments': [   {   'created': '2016-12-15T20:14:15.132Z',\n",
      "                            'description': 'Watson News cluster environment',\n",
      "                            'environment_id': 'eeb606be-b79a-442b-8612-68ff81d8e46f',\n",
      "                            'name': 'Watson News Environment',\n",
      "                            'read_only': True,\n",
      "                            'status': 'active',\n",
      "                            'updated': '2016-12-15T20:14:15.132Z'}]}\n",
      "'eeb606be-b79a-442b-8612-68ff81d8e46f'\n",
      "{   'collections': [   {   'collection_id': 'e5c88c17-a12d-4403-bf70-fa76ef0cd97e',\n",
      "                           'configuration_id': '7b379eee-a7ae-4ab8-8008-66d00bc978a0',\n",
      "                           'created': '2016-12-15T20:14:15.153Z',\n",
      "                           'description': 'Watson News pre-enriched collection '\n",
      "                                          'of curated news sources',\n",
      "                           'language': 'en_us',\n",
      "                           'name': 'watson_news',\n",
      "                           'status': 'active',\n",
      "                           'updated': '2016-12-15T20:14:15.153Z'}]}\n"
     ]
    }
   ],
   "source": [
    "discovery = watson_developer_cloud.DiscoveryV1(\n",
    "    '2016-11-07',\n",
    "    username=DISCOVERY_USERNAME,\n",
    "    password=DISCOVERY_PASSWORD)\n",
    "\n",
    "environments = discovery.get_environments()\n",
    "pp.pprint(environments)\n",
    "\n",
    "news_environments = [x for x in environments['environments'] if\n",
    "                     x['name'] == 'Watson News Environment']\n",
    "news_environment_id = news_environments[0]['environment_id']\n",
    "pp.pprint(news_environment_id)\n",
    "\n",
    "collections = discovery.list_collections(news_environment_id)\n",
    "news_collections = [x for x in collections['collections']]\n",
    "pp.pprint(collections)"
   ]
  },
  {
   "cell_type": "code",
   "execution_count": 11,
   "metadata": {
    "collapsed": false
   },
   "outputs": [
    {
     "name": "stdout",
     "output_type": "stream",
     "text": [
      "{   'configurations': [   {   'configuration_id': '7b379eee-a7ae-4ab8-8008-66d00bc978a0',\n",
      "                              'created': '2016-12-15T20:14:15.138Z',\n",
      "                              'description': 'Default configuration for Watson '\n",
      "                                             'News cluster',\n",
      "                              'name': 'Default Configuration',\n",
      "                              'updated': '2016-12-15T20:14:15.138Z'}]}\n",
      "'7b379eee-a7ae-4ab8-8008-66d00bc978a0'\n"
     ]
    }
   ],
   "source": [
    "pp.pprint(discovery.list_configurations(environment_id=news_environment_id))\n",
    "default_config_id = discovery.get_default_configuration_id(environment_id=news_environment_id)\n",
    "pp.pprint(default_config_id)"
   ]
  },
  {
   "cell_type": "code",
   "execution_count": 12,
   "metadata": {
    "collapsed": false
   },
   "outputs": [
    {
     "name": "stdout",
     "output_type": "stream",
     "text": [
      "{   'configuration_id': '7b379eee-a7ae-4ab8-8008-66d00bc978a0',\n",
      "    'created': '2016-12-15T20:14:15.138Z',\n",
      "    'description': 'Default configuration for Watson News cluster',\n",
      "    'name': 'Default Configuration',\n",
      "    'updated': '2016-12-15T20:14:15.138Z'}\n"
     ]
    }
   ],
   "source": [
    "default_config = discovery.get_configuration(environment_id=news_environment_id, configuration_id=default_config_id)\n",
    "pp.pprint(default_config)"
   ]
  },
  {
   "cell_type": "code",
   "execution_count": null,
   "metadata": {
    "collapsed": true
   },
   "outputs": [],
   "source": [
    ""
   ]
  },
  {
   "cell_type": "code",
   "execution_count": 13,
   "metadata": {
    "collapsed": false
   },
   "outputs": [],
   "source": [
    "new_environment = discovery.create_environment(name=\"new env\", description=\"bogus env\")"
   ]
  },
  {
   "cell_type": "code",
   "execution_count": null,
   "metadata": {
    "collapsed": false
   },
   "outputs": [],
   "source": [
    "pp.pprint(new_environment)\n",
    "\n",
    "if (discovery.get_environment(environment_id=new_environment['environment_id'])['status'] == 'active'):\n",
    "    writable_environment_id = new_environment['environment_id']\n",
    "    new_collection = discovery.create_collection(environment_id=writable_environment_id,\n",
    "                                                name='Example Collection',\n",
    "                                                description=\"just a test\")\n",
    "    \n",
    "    pp.pprint(new_collection)\n",
    "    #pp.pprint(discovery.get_collections(environment_id=writable_environment_id))\n",
    "    #res = discovery.delete_collection(environment_id='10b733d0-1232-4924-a670-e6ffaed2e641',\n",
    "    #                                  collection_id=new_collection['collection_id'])\n",
    "#    pp.pprint(res)"
   ]
  },
  {
   "cell_type": "code",
   "execution_count": 23,
   "metadata": {
    "collapsed": false
   },
   "outputs": [
    {
     "name": "stdout",
     "output_type": "stream",
     "text": [
      "{   'collections': [   {   'collection_id': 'dfdf5d04-b828-4feb-828e-0da223bfb145',\n",
      "                           'configuration_id': '6eca556e-1805-4f92-a9ef-b39e87069c53',\n",
      "                           'created': '2016-12-16T20:01:18.246Z',\n",
      "                           'description': 'just a test',\n",
      "                           'language': 'en_us',\n",
      "                           'name': 'Example Collection',\n",
      "                           'status': 'active',\n",
      "                           'updated': '2016-12-16T20:01:18.246Z'}]}\n"
     ]
    }
   ],
   "source": [
    "collections = discovery.list_collections(environment_id=writable_environment_id)\n",
    "pp.pprint(collections)"
   ]
  },
  {
   "cell_type": "code",
   "execution_count": 21,
   "metadata": {
    "collapsed": false
   },
   "outputs": [
    {
     "name": "stdout",
     "output_type": "stream",
     "text": [
      "{   'enriched_field_units': 1,\n",
      "    'notices': [],\n",
      "    'original_media_type': 'text/html',\n",
      "    'snapshots': [   {   'snapshot': {   'html': '<html>\\n'\n",
      "                                                 '<head>\\n'\n",
      "                                                 '  <title>Simple HTML '\n",
      "                                                 'Page</title>\\n'\n",
      "                                                 '</head>\\n'\n",
      "                                                 '<body>\\n'\n",
      "                                                 '  <h1>Chapter 1</h1>\\n'\n",
      "                                                 '  <p>The content of the '\n",
      "                                                 'first chapter.</p>\\n'\n",
      "                                                 '</body>\\n'\n",
      "                                                 '</html>'},\n",
      "                         'step': 'html_input'},\n",
      "                     {   'snapshot': {   'html': \"<?xml version='1.0' \"\n",
      "                                                 \"encoding='UTF-8' \"\n",
      "                                                 \"standalone='yes'?><html>\\n\"\n",
      "                                                 '<head>\\n'\n",
      "                                                 '    <meta '\n",
      "                                                 'content=\"text/html; '\n",
      "                                                 'charset=UTF-8\" '\n",
      "                                                 'http-equiv=\"Content-Type\"/>\\n'\n",
      "                                                 '  <title>Simple HTML '\n",
      "                                                 'Page</title>\\n'\n",
      "                                                 '\\n'\n",
      "                                                 '</head>\\n'\n",
      "                                                 '<body>\\n'\n",
      "                                                 '\\n'\n",
      "                                                 '  <h1>Chapter 1</h1>\\n'\n",
      "                                                 '  <p>The content of the '\n",
      "                                                 'first chapter.</p>\\n'\n",
      "                                                 '\\n'\n",
      "                                                 '</body></html>'},\n",
      "                         'step': 'html_output'},\n",
      "                     {   'snapshot': {   'extracted_metadata': {   'title': 'Simple '\n",
      "                                                                            'HTML '\n",
      "                                                                            'Page'},\n",
      "                                         'html': \"<?xml version='1.0' \"\n",
      "                                                 \"encoding='UTF-8' \"\n",
      "                                                 \"standalone='yes'?><html>\\n\"\n",
      "                                                 '<head>\\n'\n",
      "                                                 '    <meta '\n",
      "                                                 'content=\"text/html; '\n",
      "                                                 'charset=UTF-8\" '\n",
      "                                                 'http-equiv=\"Content-Type\"/>\\n'\n",
      "                                                 '    \\n'\n",
      "                                                 '  <title>Simple HTML '\n",
      "                                                 'Page</title>\\n'\n",
      "                                                 '\\n'\n",
      "                                                 '\\n'\n",
      "                                                 '</head>\\n'\n",
      "                                                 '<body>\\n'\n",
      "                                                 '\\n'\n",
      "                                                 '\\n'\n",
      "                                                 '  <h1>Chapter 1</h1>\\n'\n",
      "                                                 '  <p>The content of the '\n",
      "                                                 'first chapter.</p>\\n'\n",
      "                                                 '\\n'\n",
      "                                                 '</body></html>',\n",
      "                                         'metadata': {},\n",
      "                                         'text': 'Simple HTML Page\\n'\n",
      "                                                 '\\n'\n",
      "                                                 'Chapter 1\\n'\n",
      "                                                 '\\n'\n",
      "                                                 'The content of the first '\n",
      "                                                 'chapter.'},\n",
      "                         'step': 'json_output'},\n",
      "                     {   'snapshot': {   'extracted_metadata': {   'title': 'Simple '\n",
      "                                                                            'HTML '\n",
      "                                                                            'Page'},\n",
      "                                         'html': \"<?xml version='1.0' \"\n",
      "                                                 \"encoding='UTF-8' \"\n",
      "                                                 \"standalone='yes'?><html>\\n\"\n",
      "                                                 '<head>\\n'\n",
      "                                                 '    <meta '\n",
      "                                                 'content=\"text/html; '\n",
      "                                                 'charset=UTF-8\" '\n",
      "                                                 'http-equiv=\"Content-Type\"/>\\n'\n",
      "                                                 '    \\n'\n",
      "                                                 '  <title>Simple HTML '\n",
      "                                                 'Page</title>\\n'\n",
      "                                                 '\\n'\n",
      "                                                 '\\n'\n",
      "                                                 '</head>\\n'\n",
      "                                                 '<body>\\n'\n",
      "                                                 '\\n'\n",
      "                                                 '\\n'\n",
      "                                                 '  <h1>Chapter 1</h1>\\n'\n",
      "                                                 '  <p>The content of the '\n",
      "                                                 'first chapter.</p>\\n'\n",
      "                                                 '\\n'\n",
      "                                                 '</body></html>',\n",
      "                                         'metadata': {},\n",
      "                                         'text': 'Simple HTML Page\\n'\n",
      "                                                 '\\n'\n",
      "                                                 'Chapter 1\\n'\n",
      "                                                 '\\n'\n",
      "                                                 'The content of the first '\n",
      "                                                 'chapter.'},\n",
      "                         'step': 'json_normalizations_output'},\n",
      "                     {   'snapshot': {   'enriched_field_units': 1,\n",
      "                                         'enriched_text': {   'concepts': [   {   'dbpedia': 'http://dbpedia.org/resource/HTML',\n",
      "                                                                                  'freebase': 'http://rdf.freebase.com/ns/m.03g20',\n",
      "                                                                                  'opencyc': 'http://sw.opencyc.org/concept/Mx4rvWVukJwpEbGdrcN5Y29ycA',\n",
      "                                                                                  'relevance': 0.932431,\n",
      "                                                                                  'text': 'HTML',\n",
      "                                                                                  'yago': 'http://yago-knowledge.org/resource/HTML'}],\n",
      "                                                              'docSentiment': {   'mixed': False,\n",
      "                                                                                  'type': 'neutral'},\n",
      "                                                              'entities': [],\n",
      "                                                              'keywords': [   {   'relevance': 0.915478,\n",
      "                                                                                  'sentiment': {   'mixed': False,\n",
      "                                                                                                   'type': 'neutral'},\n",
      "                                                                                  'text': 'Simple '\n",
      "                                                                                          'HTML '\n",
      "                                                                                          'Page'},\n",
      "                                                                              {   'relevance': 0.539264,\n",
      "                                                                                  'sentiment': {   'mixed': False,\n",
      "                                                                                                   'type': 'neutral'},\n",
      "                                                                                  'text': 'content'},\n",
      "                                                                              {   'relevance': 0.511578,\n",
      "                                                                                  'sentiment': {   'mixed': False,\n",
      "                                                                                                   'type': 'neutral'},\n",
      "                                                                                  'text': 'chapter'}],\n",
      "                                                              'language': 'english',\n",
      "                                                              'relations': [],\n",
      "                                                              'status': 'OK',\n",
      "                                                              'taxonomy': [   {   'confident': False,\n",
      "                                                                                  'label': '/technology '\n",
      "                                                                                           'and '\n",
      "                                                                                           'computing/programming '\n",
      "                                                                                           'languages/javascript',\n",
      "                                                                                  'score': 0.577361},\n",
      "                                                                              {   'confident': False,\n",
      "                                                                                  'label': '/business '\n",
      "                                                                                           'and '\n",
      "                                                                                           'industrial/company/bankruptcy',\n",
      "                                                                                  'score': 0.57735},\n",
      "                                                                              {   'confident': False,\n",
      "                                                                                  'label': '/art '\n",
      "                                                                                           'and '\n",
      "                                                                                           'entertainment/books '\n",
      "                                                                                           'and '\n",
      "                                                                                           'literature',\n",
      "                                                                                  'score': 0.367906}]},\n",
      "                                         'extracted_metadata': {   'title': 'Simple '\n",
      "                                                                            'HTML '\n",
      "                                                                            'Page'},\n",
      "                                         'html': \"<?xml version='1.0' \"\n",
      "                                                 \"encoding='UTF-8' \"\n",
      "                                                 \"standalone='yes'?><html>\\n\"\n",
      "                                                 '<head>\\n'\n",
      "                                                 '    <meta '\n",
      "                                                 'content=\"text/html; '\n",
      "                                                 'charset=UTF-8\" '\n",
      "                                                 'http-equiv=\"Content-Type\"/>\\n'\n",
      "                                                 '    \\n'\n",
      "                                                 '  <title>Simple HTML '\n",
      "                                                 'Page</title>\\n'\n",
      "                                                 '\\n'\n",
      "                                                 '\\n'\n",
      "                                                 '</head>\\n'\n",
      "                                                 '<body>\\n'\n",
      "                                                 '\\n'\n",
      "                                                 '\\n'\n",
      "                                                 '  <h1>Chapter 1</h1>\\n'\n",
      "                                                 '  <p>The content of the '\n",
      "                                                 'first chapter.</p>\\n'\n",
      "                                                 '\\n'\n",
      "                                                 '</body></html>',\n",
      "                                         'metadata': {},\n",
      "                                         'text': 'Simple HTML Page\\n'\n",
      "                                                 '\\n'\n",
      "                                                 'Chapter 1\\n'\n",
      "                                                 '\\n'\n",
      "                                                 'The content of the first '\n",
      "                                                 'chapter.'},\n",
      "                         'step': 'enrichments_output'},\n",
      "                     {   'snapshot': {   'enriched_field_units': 1,\n",
      "                                         'enriched_text': {   'concepts': [   {   'dbpedia': 'http://dbpedia.org/resource/HTML',\n",
      "                                                                                  'freebase': 'http://rdf.freebase.com/ns/m.03g20',\n",
      "                                                                                  'opencyc': 'http://sw.opencyc.org/concept/Mx4rvWVukJwpEbGdrcN5Y29ycA',\n",
      "                                                                                  'relevance': 0.932431,\n",
      "                                                                                  'text': 'HTML',\n",
      "                                                                                  'yago': 'http://yago-knowledge.org/resource/HTML'}],\n",
      "                                                              'docSentiment': {   'mixed': False,\n",
      "                                                                                  'type': 'neutral'},\n",
      "                                                              'entities': [],\n",
      "                                                              'keywords': [   {   'relevance': 0.915478,\n",
      "                                                                                  'sentiment': {   'mixed': False,\n",
      "                                                                                                   'type': 'neutral'},\n",
      "                                                                                  'text': 'Simple '\n",
      "                                                                                          'HTML '\n",
      "                                                                                          'Page'},\n",
      "                                                                              {   'relevance': 0.539264,\n",
      "                                                                                  'sentiment': {   'mixed': False,\n",
      "                                                                                                   'type': 'neutral'},\n",
      "                                                                                  'text': 'content'},\n",
      "                                                                              {   'relevance': 0.511578,\n",
      "                                                                                  'sentiment': {   'mixed': False,\n",
      "                                                                                                   'type': 'neutral'},\n",
      "                                                                                  'text': 'chapter'}],\n",
      "                                                              'language': 'english',\n",
      "                                                              'relations': [],\n",
      "                                                              'status': 'OK',\n",
      "                                                              'taxonomy': [   {   'confident': False,\n",
      "                                                                                  'label': '/technology '\n",
      "                                                                                           'and '\n",
      "                                                                                           'computing/programming '\n",
      "                                                                                           'languages/javascript',\n",
      "                                                                                  'score': 0.577361},\n",
      "                                                                              {   'confident': False,\n",
      "                                                                                  'label': '/business '\n",
      "                                                                                           'and '\n",
      "                                                                                           'industrial/company/bankruptcy',\n",
      "                                                                                  'score': 0.57735},\n",
      "                                                                              {   'confident': False,\n",
      "                                                                                  'label': '/art '\n",
      "                                                                                           'and '\n",
      "                                                                                           'entertainment/books '\n",
      "                                                                                           'and '\n",
      "                                                                                           'literature',\n",
      "                                                                                  'score': 0.367906}]},\n",
      "                                         'extracted_metadata': {   'title': 'Simple '\n",
      "                                                                            'HTML '\n",
      "                                                                            'Page'},\n",
      "                                         'html': \"<?xml version='1.0' \"\n",
      "                                                 \"encoding='UTF-8' \"\n",
      "                                                 \"standalone='yes'?><html>\\n\"\n",
      "                                                 '<head>\\n'\n",
      "                                                 '    <meta '\n",
      "                                                 'content=\"text/html; '\n",
      "                                                 'charset=UTF-8\" '\n",
      "                                                 'http-equiv=\"Content-Type\"/>\\n'\n",
      "                                                 '    \\n'\n",
      "                                                 '  <title>Simple HTML '\n",
      "                                                 'Page</title>\\n'\n",
      "                                                 '\\n'\n",
      "                                                 '\\n'\n",
      "                                                 '</head>\\n'\n",
      "                                                 '<body>\\n'\n",
      "                                                 '\\n'\n",
      "                                                 '\\n'\n",
      "                                                 '  <h1>Chapter 1</h1>\\n'\n",
      "                                                 '  <p>The content of the '\n",
      "                                                 'first chapter.</p>\\n'\n",
      "                                                 '\\n'\n",
      "                                                 '</body></html>',\n",
      "                                         'metadata': {},\n",
      "                                         'text': 'Simple HTML Page\\n'\n",
      "                                                 '\\n'\n",
      "                                                 'Chapter 1\\n'\n",
      "                                                 '\\n'\n",
      "                                                 'The content of the first '\n",
      "                                                 'chapter.'},\n",
      "                         'step': 'normalizations_output'}],\n",
      "    'status': 'completed'}\n"
     ]
    }
   ],
   "source": [
    "with open(os.path.join(os.getcwd(),'..','resources','simple.html')) as fileinfo:\n",
    "    pp.pprint(discovery.test_document(environment_id=writable_environment_id, fileinfo=fileinfo))"
   ]
  },
  {
   "cell_type": "code",
   "execution_count": 25,
   "metadata": {
    "collapsed": false
   },
   "outputs": [
    {
     "name": "stdout",
     "output_type": "stream",
     "text": [
      "{'document_id': '10ea31bd-70f1-4fcd-a635-869ae8a06771', 'status': 'processing'}\n"
     ]
    }
   ],
   "source": [
    "with open(os.path.join(os.getcwd(),'..','resources','simple.html')) as fileinfo:\n",
    "    res = discovery.add_document(environment_id=writable_environment_id,\n",
    "                                 collection_id=collections['collections'][0]['collection_id'],\n",
    "                                 fileinfo=fileinfo)\n",
    "    pp.pprint(res)"
   ]
  },
  {
   "cell_type": "code",
   "execution_count": 26,
   "metadata": {
    "collapsed": false
   },
   "outputs": [
    {
     "name": "stdout",
     "output_type": "stream",
     "text": [
      "{'document_id': 'some_user_specfied_id', 'status': 'processing'}\n"
     ]
    }
   ],
   "source": [
    "with open(os.path.join(os.getcwd(),'..','resources','simple.html')) as fileinfo:\n",
    "    res = discovery.update_document(environment_id=writable_environment_id,\n",
    "                                    collection_id=collections['collections'][0]['collection_id'],\n",
    "                                    document_id='some_user_specified_id',\n",
    "                                    file_info=fileinfo)\n",
    "    pp.pprint(res)"
   ]
  },
  {
   "cell_type": "code",
   "execution_count": 29,
   "metadata": {},
   "outputs": [
    {
     "name": "stdout",
     "output_type": "stream",
     "text": [
      "{'available': 1, 'failed': 0, 'processing': 0}\n"
     ]
    }
   ],
   "source": [
    "res = discovery.get_collection(environment_id=writable_environment_id,\n",
    "                               collection_id=collections['collections'][0]['collection_id'])\n",
    "pp.pprint(res['document_counts'])"
   ]
  },
  {
   "cell_type": "code",
   "execution_count": 30,
   "metadata": {
    "collapsed": false
   },
   "outputs": [
    {
     "name": "stdout",
     "output_type": "stream",
     "text": [
      "{'environment_id': '68f1d470-7e02-466d-b79c-446d3e544bf9', 'status': 'deleted'}\n"
     ]
    }
   ],
   "source": [
    "res = discovery.delete_environment(environment_id=writable_environment_id)\n",
    "pp.pprint(res)"
   ]
  },
  {
   "cell_type": "code",
   "execution_count": 10,
   "metadata": {},
   "outputs": [
    {
     "name": "stdout",
     "output_type": "stream",
     "text": [
      "<Response [204]>\n"
     ]
    }
   ],
   "source": [
    "res = discovery.delete_training_data(environment_id=writable_environment_id,\n",
    "                                     collection_id=collections['collections'][0]['collection_id'])\n",
    "print(res)"
   ]
  },
  {
   "cell_type": "code",
   "execution_count": 14,
   "metadata": {},
   "outputs": [
    {
     "name": "stdout",
     "output_type": "stream",
     "text": [
      "{\n",
      "    \"filter\": \"bar\", \n",
      "    \"query_id\": \"some_unique_id\", \n",
      "    \"examples\": [\n",
      "        {\n",
      "            \"relevance\": 0, \n",
      "            \"cross_reference\": \"my_cross_id\", \n",
      "            \"document_id\": \"my_id\"\n",
      "        }\n",
      "    ], \n",
      "    \"natural_language_query\": \"foo\"\n",
      "}\n"
     ]
    }
   ],
   "source": [
    "examples = [\n",
    "    {\n",
    "        'document_id': 'my_id',\n",
    "        'relevance': 0,\n",
    "        'cross_reference': 'my_cross_id'\n",
    "    }\n",
    "]\n",
    "res = discovery.add_training_data_query(environment_id=writable_environment_id,\n",
    "                                        collection_id=collections['collections'][0]['collection_id'],\n",
    "                                        natural_language_query='foo',\n",
    "                                        query_id='some_unique_id',\n",
    "                                        filter='bar',\n",
    "                                        examples=examples)\n",
    "print(json.dumps(res, indent=4))"
   ]
  },
  {
   "cell_type": "code",
   "execution_count": 12,
   "metadata": {},
   "outputs": [
    {
     "name": "stdout",
     "output_type": "stream",
     "text": [
      "{\n",
      "    \"collection_id\": \"cb86efe7-d5b1-42c6-8c7b-2ca248dc3fb0\", \n",
      "    \"environment_id\": \"1cf6702f-d6f4-40f3-97cf-fb99eb110ef8\", \n",
      "    \"queries\": [\n",
      "        {\n",
      "            \"filter\": \"bar\", \n",
      "            \"query_id\": \"86d74eeba3b2b2175617dcbbd7dabab7db840a1\", \n",
      "            \"examples\": [\n",
      "                {\n",
      "                    \"relevance\": 0, \n",
      "                    \"cross_reference\": \"my_cross_id\", \n",
      "                    \"document_id\": \"my_id\"\n",
      "                }\n",
      "            ], \n",
      "            \"natural_language_query\": \"foo\"\n",
      "        }\n",
      "    ]\n",
      "}\n"
     ]
    }
   ],
   "source": [
    "res = discovery.list_training_data(environment_id=writable_environment_id,\n",
    "                                   collection_id=collections['collections'][0]['collection_id'])\n",
    "\n",
    "print(json.dumps(res, indent=4))"
   ]
  },
  {
   "cell_type": "code",
   "execution_count": 13,
   "metadata": {},
   "outputs": [
    {
     "name": "stdout",
     "output_type": "stream",
     "text": [
      "<Response [204]>\n"
     ]
    }
   ],
   "source": [
    "res = discovery.delete_training_data_query(environment_id=writable_environment_id,\n",
    "                                           collection_id=collections['collections'][0]['collection_id'],\n",
    "                                           query_id='86d74eeba3b2b2175617dcbbd7dabab7db840a1')\n",
    "\n",
    "print(res)"
   ]
  },
  {
   "cell_type": "code",
   "execution_count": 15,
   "metadata": {},
   "outputs": [
    {
     "name": "stdout",
     "output_type": "stream",
     "text": [
      "{\n",
      "    \"filter\": \"bar\", \n",
      "    \"query_id\": \"86d74eeba3b2b2175617dcbbd7dabab7db840a1\", \n",
      "    \"examples\": [\n",
      "        {\n",
      "            \"relevance\": 0, \n",
      "            \"cross_reference\": \"my_cross_id\", \n",
      "            \"document_id\": \"my_id\"\n",
      "        }\n",
      "    ], \n",
      "    \"natural_language_query\": \"foo\"\n",
      "}\n"
     ]
    }
   ],
   "source": [
    "res = discovery.get_training_data_query(environment_id=writable_environment_id,\n",
    "                                        collection_id=collections['collections'][0]['collection_id'],\n",
    "                                        query_id='86d74eeba3b2b2175617dcbbd7dabab7db840a1')\n",
    "\n",
    "print(json.dumps(res, indent=4))"
   ]
  },
  {
   "cell_type": "code",
   "execution_count": 16,
   "metadata": {},
   "outputs": [
    {
     "name": "stdout",
     "output_type": "stream",
     "text": [
      "[\n",
      "    {\n",
      "        \"relevance\": 0, \n",
      "        \"cross_reference\": \"my_cross_id\", \n",
      "        \"document_id\": \"my_id\"\n",
      "    }\n",
      "]\n"
     ]
    }
   ],
   "source": [
    "res = discovery.list_training_data_query_examples(environment_id=writable_environment_id,\n",
    "                                                  collection_id=collections['collections'][0]['collection_id'],\n",
    "                                                  query_id='86d74eeba3b2b2175617dcbbd7dabab7db840a1')\n",
    "\n",
    "print(json.dumps(res, indent=4))"
   ]
  },
  {
   "cell_type": "code",
   "execution_count": 22,
   "metadata": {},
   "outputs": [
    {
     "name": "stdout",
     "output_type": "stream",
     "text": [
      "{\n",
      "    \"relevance\": 0, \n",
      "    \"cross_reference\": \"my_other_cross_id\", \n",
      "    \"document_id\": \"my_other_id\"\n",
      "}\n"
     ]
    }
   ],
   "source": [
    "res = discovery.add_training_data_query_example(environment_id=writable_environment_id,\n",
    "                                                collection_id=collections['collections'][0]['collection_id'],\n",
    "                                                query_id='86d74eeba3b2b2175617dcbbd7dabab7db840a1',\n",
    "                                                document_id='my_other_id',\n",
    "                                                relevance=0,\n",
    "                                                cross_reference='my_other_cross_id')\n",
    "\n",
    "print(json.dumps(res, indent=4))"
   ]
  },
  {
   "cell_type": "code",
   "execution_count": 23,
   "metadata": {},
   "outputs": [
    {
     "name": "stdout",
     "output_type": "stream",
     "text": [
      "{\n",
      "    \"relevance\": 0, \n",
      "    \"cross_reference\": \"my_other_cross_id\", \n",
      "    \"document_id\": \"my_other_id\"\n",
      "}\n"
     ]
    }
   ],
   "source": [
    "res = discovery.get_training_data_query_example(environment_id=writable_environment_id,\n",
    "                                                collection_id=collections['collections'][0]['collection_id'],\n",
    "                                                query_id='86d74eeba3b2b2175617dcbbd7dabab7db840a1',\n",
    "                                                example_id='my_other_id')\n",
    "\n",
    "print(json.dumps(res, indent=4))"
   ]
  },
  {
   "cell_type": "code",
   "execution_count": 24,
   "metadata": {},
   "outputs": [
    {
     "name": "stdout",
     "output_type": "stream",
     "text": [
      "{\n",
      "    \"relevance\": 1, \n",
      "    \"cross_reference\": \"my_other_cross_id\", \n",
      "    \"document_id\": \"my_other_id\"\n",
      "}\n"
     ]
    }
   ],
   "source": [
    "res = discovery.update_training_data_query_example(environment_id=writable_environment_id,\n",
    "                                                   collection_id=collections['collections'][0]['collection_id'],\n",
    "                                                   query_id='86d74eeba3b2b2175617dcbbd7dabab7db840a1',\n",
    "                                                   example_id='my_other_id',\n",
    "                                                   relevance=1,\n",
    "                                                   cross_reference='my_other_cross_id')\n",
    "\n",
    "print(json.dumps(res, indent=4))"
   ]
  },
  {
   "cell_type": "code",
   "execution_count": 21,
   "metadata": {},
   "outputs": [
    {
     "name": "stdout",
     "output_type": "stream",
     "text": [
      "<Response [204]>\n"
     ]
    }
   ],
   "source": [
    "res = discovery.delete_training_data_query_example(environment_id=writable_environment_id,\n",
    "                                                   collection_id=collections['collections'][0]['collection_id'],\n",
    "                                                   query_id='86d74eeba3b2b2175617dcbbd7dabab7db840a1',\n",
    "                                                   example_id='my_other_id')\n",
    "\n",
    "print(res)"
   ]
  }
 ],
 "metadata": {
  "anaconda-cloud": {},
  "kernelspec": {
   "display_name": "Python [Root]",
   "language": "python",
   "name": "Python [Root]"
  },
  "language_info": {
   "codemirror_mode": {
    "name": "ipython",
    "version": 3.0
   },
   "file_extension": ".py",
   "mimetype": "text/x-python",
   "name": "python",
   "nbconvert_exporter": "python",
   "pygments_lexer": "ipython3",
   "version": "3.5.2"
  }
 },
 "nbformat": 4,
 "nbformat_minor": 0
}